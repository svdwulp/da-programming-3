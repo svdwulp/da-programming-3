{
 "cells": [
  {
   "cell_type": "markdown",
   "metadata": {},
   "source": [
    "# Data Analysis - Programming\n",
    "## Week 1\n",
    "## Oefeningen\n",
    "\n",
    "### Moeilijkheidsgraad\n",
    "\n",
    "Omdat sommige van de onderstaande oefeningen wat lastiger zijn dan andere, is een indicatie van de moeilijkheidsgraad toegevoegd.\n",
    "\n",
    "De volgende niveau's worden daarbij onderscheiden:\n",
    "- <img src=\"images/stars_1.png\" alt=\"1 star\" style=\"display: inline\" /> oefening van behandelde onderwerpen\n",
    "- <img src=\"images/stars_2.png\" alt=\"2 stars\" style=\"display: inline\" /> verdieping van behandelde onderwerpen\n",
    "- <img src=\"images/stars_3.png\" alt=\"3 stars\" style=\"display: inline\" /> uitdaging, stof tot nadenken"
   ]
  },
  {
   "cell_type": "code",
   "execution_count": 36,
   "metadata": {
    "collapsed": false
   },
   "outputs": [
    {
     "name": "stdout",
     "output_type": "stream",
     "text": [
      "Using matplotlib backend: Qt4Agg\n",
      "Populating the interactive namespace from numpy and matplotlib\n"
     ]
    }
   ],
   "source": [
    "%pylab\n",
    "%matplotlib inline\n",
    "import scipy.stats as st\n",
    "import pandas as pd"
   ]
  },
  {
   "cell_type": "markdown",
   "metadata": {},
   "source": [
    "<img src=\"images/Jack_Sparrow.jpg\" alt=\"Captain Jack Sparrow\" style=\"float: right; margin-left: 20px\" />\n",
    "### Opgave 1\n",
    "\n",
    "<span>a.</span> Bekijk het bestand data_01.csv en beschrijf de inhoud van de kolommen. <img src=\"images/stars_1.png\" alt=\"1 star\" style=\"display: inline; margin-top: -5px\" />\n",
    "\n",
    "<span>b.</span> Laadt de data in de kolom 'Global Average Temperature' in Python in en maak er een pandas.Series van. <img src=\"images/stars_1.png\" alt=\"1 star\" style=\"display: inline; margin-top: -5px\" />\n",
    "\n",
    "<span>c.</span> Schrijf een Python functie met twee argumenten genaamd `filename` en `column`. De functie dient de opgegeven kolom (0-based index) uit het opgegeven bestand te lezen en de inhoud terug te geven als een pandas.Series. Je mag er vanuit gaan dat de kolom numerieke data bevat. Test je functie door de kolommen in `data_01.csv` in te lezen met behulp van de functie. <img src=\"images/stars_2.png\" alt=\"2 star\" style=\"display: inline; margin-top: -5px\" />  \n",
    "*Opmerking:* je kunt de functie naar wens natuurlijk uitbreiden met bijvoorbeeld: een boolean argument dat aangeeft of het bestand een header bevat, een argument dat aangeeft welk datatype de opgegeven kolom bevat of logica die zelf het meest geschikte datatype voor de kolom bepaalt.\n",
    "\n",
    "<span>d.</span> Onderzoek of de variabelen 'Global Average Temperature' en 'Number of Pirates' lineaire correlatie vertonen. <img src=\"images/stars_1.png\" alt=\"1 star\" style=\"display: inline; margin-top: -5px\" />  \n",
    "  \n",
    "De 'Church of the Flying Spaghetti Monster' stelt dat het fenomeen 'global warming' wordt veroorzaakt door het afnemend aantal piraten. [Deze open brief](http://www.venganza.org/about/open-letter/) aan het 'Kansas School Board' beschrijft dit inzicht. Lees voor informatie over het verschil tussen correlatie en oorzakelijk verband (causatie) bijvoorbeeld [deze blog](http://www.scilogs.com/in_scientio_veritas/correlation-causation-part-un/). <img src=\"images/stars_2.png\" alt=\"2 star\" style=\"display: inline; margin-top: -5px\" />  \n",
    "\n",
    "<span>e.</span> Lees de documentatie van de `scipy.stats`-functie [`pearsonr`](https://docs.scipy.org/doc/scipy/reference/generated/scipy.stats.pearsonr.html#scipy.stats.pearsonr). Controleer of de door jou in opgave 1e gevonden correlatie coëfficient en P-value overeenkomen met de output van `pearsonr`. <img src=\"images/stars_2.png\" alt=\"2 star\" style=\"display: inline; margin-top: -5px\" />  "
   ]
  },
  {
   "cell_type": "markdown",
   "metadata": {},
   "source": [
    "### Opgave 2\n",
    "\n",
    "De onderstaande cell bevat een Python functie die weerdata leest van de website van het KNMI. Output van de functie zijn de kolommen FG en TG in pandas.Series: windsnelheid in m/s en temperatuur in graden Celcius, beide daggemiddelden.  \n",
    "Kijk of je het programma kunt lezen. Onderzoek vervolgens of de windsnelheid en de temperatuur lineaire samenhang vertonen. <img src=\"images/stars_2.png\" alt=\"2 star\" style=\"display: inline; margin-top: -5px\" />  "
   ]
  },
  {
   "cell_type": "code",
   "execution_count": 58,
   "metadata": {
    "collapsed": false
   },
   "outputs": [],
   "source": [
    "from datetime import date\n",
    "import requests\n",
    "from io import StringIO\n",
    "\n",
    "\n",
    "def load_knmi_data(start=date(2015, 1, 1), end=date(2015, 12, 31), station=350):\n",
    "    url = \"http://projects.knmi.nl/klimatologie/daggegevens/getdata_dag.cgi\"\n",
    "    data = {\n",
    "        \"byear\": start.year,\n",
    "        \"bmonth\": start.month,\n",
    "        \"bday\": start.day,\n",
    "        \"eyear\": end.year,\n",
    "        \"emonth\": end.month,\n",
    "        \"eday\": end.day,\n",
    "        \"stations\": station,\n",
    "        \"variable\": \"FG\",\n",
    "    }\n",
    "    r = requests.post(url, data=data)\n",
    "    if r.status_code == requests.codes.ok:\n",
    "        # response op webrequest ontvangen,\n",
    "        #   probeer eventueel r.text (een string) naar een bestand te printen\n",
    "        #   om inzicht te krijgen in de data\n",
    "        f = StringIO(r.text)  # use string as file\n",
    "        # return columns 4 (FG, mean wind speed in m/s) and 11 (avg temperature in C)\n",
    "        data = loadtxt(f, delimiter=\",\", usecols=(4, 11)) / 10\n",
    "        return (\n",
    "            pd.Series(data[:, 0]),\n",
    "            pd.Series(data[:, 1]),\n",
    "        )\n",
    "    raise Exception(\"Error occurred loading data from knmi.nl!\")\n",
    "\n",
    "windspeed, temperature = load_knmi_data()"
   ]
  },
  {
   "cell_type": "code",
   "execution_count": null,
   "metadata": {
    "collapsed": true
   },
   "outputs": [],
   "source": []
  }
 ],
 "metadata": {
  "kernelspec": {
   "display_name": "Python 3",
   "language": "python",
   "name": "python3"
  },
  "language_info": {
   "codemirror_mode": {
    "name": "ipython",
    "version": 3
   },
   "file_extension": ".py",
   "mimetype": "text/x-python",
   "name": "python",
   "nbconvert_exporter": "python",
   "pygments_lexer": "ipython3",
   "version": "3.5.1"
  }
 },
 "nbformat": 4,
 "nbformat_minor": 0
}
