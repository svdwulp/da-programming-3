{
 "cells": [
  {
   "cell_type": "markdown",
   "metadata": {
    "slideshow": {
     "slide_type": "slide"
    }
   },
   "source": [
    "# Data Analysis - Programming - 3\n",
    "## Week 2"
   ]
  },
  {
   "cell_type": "markdown",
   "metadata": {
    "slideshow": {
     "slide_type": "fragment"
    }
   },
   "source": [
    "## Onderwerpen week 2\n",
    "\n",
    "- Pandas - DataFrame  \n",
    "  Leerdoelen:\n",
    "  - DataFrames maken en lezen  \n",
    "    (random variates, Python lists, csv- of Excel-bestand)\n",
    "  - data in DataFrames selecteren  \n",
    "    (indexing & slicing op basis van indices en labels, boolean indexing)\n",
    "  - samenvatting produceren voor DataFrame\n",
    "  - statistische functies toepassen op kolommen in DataFrames"
   ]
  },
  {
   "cell_type": "code",
   "execution_count": 60,
   "metadata": {
    "collapsed": false,
    "slideshow": {
     "slide_type": "skip"
    }
   },
   "outputs": [
    {
     "name": "stdout",
     "output_type": "stream",
     "text": [
      "Using matplotlib backend: Qt4Agg\n",
      "Populating the interactive namespace from numpy and matplotlib\n"
     ]
    }
   ],
   "source": [
    "%pylab\n",
    "%matplotlib inline\n",
    "import scipy.stats as st\n",
    "import pandas as pd"
   ]
  },
  {
   "cell_type": "markdown",
   "metadata": {
    "slideshow": {
     "slide_type": "slide"
    }
   },
   "source": [
    "## Pandas - DataFrame (1)\n",
    "\n",
    "- een DataFrame in Pandas is als een tabel in een spreadsheet in Excel  \n",
    "en bestaat dan ook uit rijen en kolommen\n",
    "- iedere kolom is een pandas.Series en heeft dus een eigen datatype,  \n",
    "dat kan van alles zijn: float, int, string, bool etc.\n",
    "- in een Jupyter Notebook worden DataFrames als tabellen afgedrukt,  \n",
    "eventueel ingekort om zaken leesbaar te houden"
   ]
  },
  {
   "cell_type": "markdown",
   "metadata": {
    "slideshow": {
     "slide_type": "subslide"
    }
   },
   "source": [
    "## Pandas - DataFrame (2)\n",
    "\n",
    "- je kunt DataFrames op veel verschillende manieren maken:\n",
    "\n",
    "```python\n",
    "# bijvoorbeeld op basis van Python lists (numpy arrays):\n",
    "pd.DataFrame(\n",
    "    [\n",
    "        [\"Bas\", 1.93],\n",
    "        [\"Chris\", 1.96],\n",
    "        [\"Frans\", 1.91],\n",
    "    ],\n",
    "    columns=[\"naam\", \"lengte\"]\n",
    ")\n",
    "```"
   ]
  },
  {
   "cell_type": "markdown",
   "metadata": {
    "slideshow": {
     "slide_type": "fragment"
    }
   },
   "source": [
    "```python\n",
    "# of Python dicts:\n",
    "pd.DataFrame(\n",
    "    {\n",
    "        \"naam\": pd.Series([\"Bas\", \"Chris\", \"Frans\"]),\n",
    "        \"lengte\": pd.Series([1.93, 1.96, 1.91]),\n",
    "    }    \n",
    ")\n",
    "```"
   ]
  },
  {
   "cell_type": "markdown",
   "metadata": {},
   "source": [
    "## Pandas - DataFrame (3)\n",
    "\n",
    "- maar het meest gebruikelijk is het om data in te lezen uit een bestand  \n",
    "met behulp van `pd.read_csv()` of `pd.read_excel()`:\n",
    "\n",
    "```python\n",
    "df = pd.read_excel(r\"data/iris.data.xlsx\")\n",
    "df\n",
    "```"
   ]
  },
  {
   "cell_type": "markdown",
   "metadata": {
    "slideshow": {
     "slide_type": "subslide"
    }
   },
   "source": [
    "## Pandas - DataFrame (4)\n",
    "\n",
    "- net als bij pd.Series kun je een samenvatting voor iedere (numerieke) kolom \n",
    "krijgen:\n",
    "\n",
    "```python\n",
    "df = pd.read_excel(r\"data/iris.data.xlsx\")\n",
    "df.describe()\n",
    "```"
   ]
  },
  {
   "cell_type": "markdown",
   "metadata": {
    "slideshow": {
     "slide_type": "subslide"
    }
   },
   "source": [
    "## Pandas - DataFrame (5)\n",
    "\n",
    "- de rijen in een DataFrame zijn, zoals de waarden in een Series, geindexeerd:\n",
    "\n",
    "```python\n",
    "df = pd.DataFrame({\n",
    "        \"naam\": pd.Series([\"Bas\", \"Chris\", \"Frans\"]),\n",
    "        \"lengte\": pd.Series([1.93, 1.96, 1.91])\n",
    "})\n",
    "df.index\n",
    "```"
   ]
  },
  {
   "cell_type": "markdown",
   "metadata": {
    "slideshow": {
     "slide_type": "fragment"
    }
   },
   "source": [
    "- in het voorbeeld zou een andere index wellicht meer voor de hand liggen:\n",
    "\n",
    "```python\n",
    "df = pd.DataFrame(\n",
    "    [1.93, 1.96, 1.91],\n",
    "    columns=[\"lengte\"],\n",
    "    index=[\"Bas\", \"Chris\", \"Frans\"]\n",
    ")\n",
    "print(df)\n",
    "print(df.index)\n",
    "```"
   ]
  },
  {
   "cell_type": "markdown",
   "metadata": {
    "slideshow": {
     "slide_type": "subslide"
    }
   },
   "source": [
    "## Pandas - DataFrame (6)\n",
    "\n",
    "- kolommen in een DataFrame kun je selecteren middels de kolomnamen,  \n",
    "dat levert dan (voor 1 kolom) een Series:\n",
    "\n",
    "```python\n",
    "df = pd.read_excel(r\"data/iris.data.xlsx\")\n",
    "print(df.columns)\n",
    "df[\"petal length\"]\n",
    "```"
   ]
  },
  {
   "cell_type": "markdown",
   "metadata": {
    "slideshow": {
     "slide_type": "fragment"
    }
   },
   "source": [
    "- en voor meerdere kolommen een DataFrame:\n",
    "\n",
    "```python\n",
    "# let op: extra brackets om de list met column names!\n",
    "df[[\"petal length\", \"petal width\", \"class\"]]\n",
    "```"
   ]
  },
  {
   "cell_type": "markdown",
   "metadata": {
    "slideshow": {
     "slide_type": "subslide"
    }
   },
   "source": [
    "## Pandas - DataFrame (7)\n",
    "\n",
    "- rijen in een DataFrame kun je selecteren op basis van labels:\n",
    "\n",
    "```python\n",
    "df.loc[3:10]  # de index/labeling van de iris data set is numeriek\n",
    "```"
   ]
  },
  {
   "cell_type": "markdown",
   "metadata": {
    "slideshow": {
     "slide_type": "fragment"
    }
   },
   "source": [
    "- op basis van indices van rijen (vgl lists):\n",
    "\n",
    "```python\n",
    "df.iloc[3:10]\n",
    "# of ook:\n",
    "df[3:10]\n",
    "```"
   ]
  },
  {
   "cell_type": "markdown",
   "metadata": {
    "slideshow": {
     "slide_type": "fragment"
    }
   },
   "source": [
    "- of op basis van labels met fallback naar indices:\n",
    "\n",
    "```python\n",
    "df.ix[3:10]\n",
    "```"
   ]
  },
  {
   "cell_type": "markdown",
   "metadata": {
    "slideshow": {
     "slide_type": "subslide"
    }
   },
   "source": [
    "## Pandas - DataFrame (8)\n",
    "\n",
    "- net als bij Series (np.arrays) mag je ook indexeren met booleans:\n",
    "\n",
    "```python\n",
    "selection = df[\"petal length\"] < 4.0\n",
    "# selection is nu een Series van booleans\n",
    "# met True bij iedere rij waar petal length < 4\n",
    "# en False voor iedere rij met petal length >= 4\n",
    "df[selection]\n",
    "\n",
    "# of:\n",
    "df.loc[df[\"class\"] == \"Iris-virginica\", [\"petal length\"]]\n",
    "```"
   ]
  },
  {
   "cell_type": "markdown",
   "metadata": {
    "slideshow": {
     "slide_type": "fragment"
    }
   },
   "source": [
    "- boolean expressions kun je combineren met logische operatoren\n",
    "- voor indexing zijn dat niet `and`, `or` en `not`, maar  \n",
    "  `&` (and), `|` (or) en `~` (not)\n",
    "- er *moeten* haakjes om de boolean expressions\n",
    "- bijvoorbeeld:\n",
    "\n",
    "```python\n",
    "df[(df[\"petal length\"] < 4.0) & ~(df[\"sepal width\"] > 3)]\n",
    "```"
   ]
  },
  {
   "cell_type": "markdown",
   "metadata": {
    "slideshow": {
     "slide_type": "subslide"
    }
   },
   "source": [
    "## Pandas - DataFrame (9)\n",
    "\n",
    "- er zijn nog vele andere manieren om specifieke rijen te selecteren,  \n",
    "zoek eventueel op Google of in de Pandas documentatie naar voorbeelden \n",
    "naar wat nodig hebt\n",
    "- voorbeelden van veel gebruikte selectie-functies zijn:  \n",
    "`where()`, `query()`, `lookup()` en comparisons voor specifieke datatypen zoals `pd.Series.str.contains()`"
   ]
  },
  {
   "cell_type": "markdown",
   "metadata": {
    "slideshow": {
     "slide_type": "slide"
    }
   },
   "source": [
    "## Oefening\n",
    "\n",
    "- [Voeg je gegevens toe in een lege rij](https://goo.gl/QwE9X4)\n",
    "\n",
    "\n",
    "- welke kolomparen vertonen onderling correlatie?\n",
    "- pas lineaire regressie toe op deze kolommen"
   ]
  },
  {
   "cell_type": "code",
   "execution_count": 75,
   "metadata": {
    "collapsed": false,
    "slideshow": {
     "slide_type": "slide"
    }
   },
   "outputs": [],
   "source": [
    "from io import StringIO\n",
    "import requests\n",
    "\n",
    "url = (\n",
    "    \"https://docs.google.com/spreadsheets/d/\"\n",
    "    \"1L7ssCGoqnJSizt-J5OH0XryoBgN3fZ8md9RngnlyUNo/export?format=csv&gid=0\"\n",
    ")\n",
    "r = requests.get(url)\n",
    "data = r.content.decode(\"utf-8\")\n",
    "df = pd.read_csv(StringIO(data), index_col=0)\n",
    "df.dropna(inplace=True)"
   ]
  }
 ],
 "metadata": {
  "celltoolbar": "Slideshow",
  "kernelspec": {
   "display_name": "Python 3",
   "language": "python",
   "name": "python3"
  },
  "language_info": {
   "codemirror_mode": {
    "name": "ipython",
    "version": 3
   },
   "file_extension": ".py",
   "mimetype": "text/x-python",
   "name": "python",
   "nbconvert_exporter": "python",
   "pygments_lexer": "ipython3",
   "version": "3.5.1"
  }
 },
 "nbformat": 4,
 "nbformat_minor": 0
}
