{
 "cells": [
  {
   "cell_type": "markdown",
   "metadata": {
    "slideshow": {
     "slide_type": "slide"
    }
   },
   "source": [
    "# Data Analysis - Programming - 3\n",
    "## Week 6"
   ]
  },
  {
   "cell_type": "markdown",
   "metadata": {
    "slideshow": {
     "slide_type": "fragment"
    }
   },
   "source": [
    "## Opdracht week 6, 7 en 8\n",
    "\n",
    "### Wie is de beste popartiest (of band) allertijden?"
   ]
  },
  {
   "cell_type": "markdown",
   "metadata": {
    "slideshow": {
     "slide_type": "slide"
    }
   },
   "source": [
    "### Opdrachtomschrijving en activiteiten per week\n",
    "\n",
    "NPO Radio 2 stelt ieder jaar een Top 2000 samen waarin songs van artiesten zijn geordend op populariteit bij een stemming.\n",
    "Dit levert grote hoeveelheden data op waar we geweldige dingen mee zouden kunnen doen, ware het niet dat deze gegevens helaas niet publiekelijk beschikbaar zijn.\n",
    "\n",
    "Wel beschikbaar zijn de eindresultaten van de Top 2000 voor de afgelopen jaren en daar maak je in deze opdracht gebruik van.\n",
    "\n",
    "De opdracht is om de beste artiest (of band) allertijden te bepalen. Daartoe dien je een model te ontwikkelen dat een waarderingscijfer oplevert per artiest. De data die je daarbij tot je beschikking hebt, bestaat uit de resultaten van de Top2000 van de afgelopen 10 jaar. Met behulp van het waarderingscijfer kunnen we de artiesten ordenen en die ordening kunnen we gebruiken om de beste artiest te bepalen."
   ]
  },
  {
   "cell_type": "markdown",
   "metadata": {
    "slideshow": {
     "slide_type": "subslide"
    }
   },
   "source": [
    "### Opdrachtomschrijving en activiteiten per week\n",
    "\n",
    "Om jullie te ondersteunen krijg je een indeling met activiteiten per week:\n",
    "\n",
    "week 6:\n",
    "- formuleer het doel van de opdracht in eigen woorden,\n",
    "  begrijp wat er gevraagd en komt jou begrip overeen met dat van de opdrachtgever?\n",
    "- breng eisen en inperkingen aan de opdracht in kaart \n",
    "- onderzoek waar de benodigde data vandaan zou moeten komen\n",
    "- bedenk hoe je de data kunt downloaden en converteren naar een vor jou bruikbaar formaat\n",
    "- implementeer het geautomatiseerd verzamelen van de data en de conversie naar een bruikbaar formaat\n",
    "- brainstorm over mogelijke modellen,\n",
    "  aan welke voorwaarden zou een model in het licht van de opdracht volgens jou moeten voldoen?"
   ]
  },
  {
   "cell_type": "markdown",
   "metadata": {
    "slideshow": {
     "slide_type": "subslide"
    }
   },
   "source": [
    "### Opdrachtomschrijving en activiteiten per week\n",
    "\n",
    "week 7:\n",
    "- onderzoek de data die je hebt verzameld, wellicht valt er nog wat op te schonen\n",
    "- beschrijf de gegvens die je hebt verzameld\n",
    "- brainstorm over mogelijkheden voor een model op basis van de verzamelde gegevens,\n",
    "  bij voorkeur doe je dit niet alleen\n",
    "- implementeer je model en beoordeel de uitkomsten\n",
    "- sluiten de uitkomsten van je model aan bij je verwachtingen?"
   ]
  },
  {
   "cell_type": "markdown",
   "metadata": {
    "slideshow": {
     "slide_type": "subslide"
    }
   },
   "source": [
    "### Opdrachtomschrijving en activiteiten per week\n",
    "\n",
    "week 8:\n",
    "- automatiseer het verzamelen van de data en het toepassen van het model\n",
    "- beschrijf en evalueer de resultaten en geef aanbevelingen voor mogelijke verbeteringen\n",
    "- beschrijf en evalueer je werkwijze bij deze opdracht en geef aanbevelingen voor mogelijke verbeteringen"
   ]
  },
  {
   "cell_type": "markdown",
   "metadata": {
    "slideshow": {
     "slide_type": "slide"
    }
   },
   "source": [
    "### Verwachte opbrengst per week bij expertmeeting\n",
    "\n",
    "Gegeven het voorgaande stappenplan, wat zou geschikte opbrengst per week zijn die we kunnen gebruiken om je vorderingen in de opdracht te evalueren tijdens de expertmeeting in de weken?"
   ]
  },
  {
   "cell_type": "code",
   "execution_count": null,
   "metadata": {
    "collapsed": true
   },
   "outputs": [],
   "source": []
  }
 ],
 "metadata": {
  "celltoolbar": "Slideshow",
  "kernelspec": {
   "display_name": "Python 3",
   "language": "python",
   "name": "python3"
  },
  "language_info": {
   "codemirror_mode": {
    "name": "ipython",
    "version": 3
   },
   "file_extension": ".py",
   "mimetype": "text/x-python",
   "name": "python",
   "nbconvert_exporter": "python",
   "pygments_lexer": "ipython3",
   "version": "3.5.1"
  }
 },
 "nbformat": 4,
 "nbformat_minor": 0
}
