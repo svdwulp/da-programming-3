{
 "cells": [
  {
   "cell_type": "markdown",
   "metadata": {},
   "source": [
    "# Data Analysis - Programming\n",
    "## Week 2\n",
    "## Oefeningen\n",
    "\n",
    "### Moeilijkheidsgraad\n",
    "\n",
    "Omdat sommige van de onderstaande oefeningen wat lastiger zijn dan andere, is een indicatie van de moeilijkheidsgraad toegevoegd.\n",
    "\n",
    "De volgende niveau's worden daarbij onderscheiden:\n",
    "- <img src=\"images/stars_1.png\" alt=\"1 star\" style=\"display: inline\" /> oefening van behandelde onderwerpen\n",
    "- <img src=\"images/stars_2.png\" alt=\"2 stars\" style=\"display: inline\" /> verdieping van behandelde onderwerpen\n",
    "- <img src=\"images/stars_3.png\" alt=\"3 stars\" style=\"display: inline\" /> uitdaging, stof tot nadenken"
   ]
  },
  {
   "cell_type": "code",
   "execution_count": 1,
   "metadata": {
    "collapsed": false
   },
   "outputs": [
    {
     "name": "stdout",
     "output_type": "stream",
     "text": [
      "Using matplotlib backend: Qt4Agg\n",
      "Populating the interactive namespace from numpy and matplotlib\n"
     ]
    }
   ],
   "source": [
    "%pylab\n",
    "%matplotlib inline\n",
    "import scipy.stats as st\n",
    "import pandas as pd"
   ]
  },
  {
   "cell_type": "markdown",
   "metadata": {},
   "source": [
    "### Opgave 1\n",
    "\n",
    "<span>a.</span> Download de resultaten van het experiment met behulp van de code in slides van week 2 (laatste slide). Onderzoek de data door een numerieke samenvatting te maken van de numerieke kolommen. <img src=\"images/stars_1.png\" alt=\"1 star\" style=\"display: inline; margin-top: -5px\" />\n",
    "\n",
    "<span>b.</span> Onderzoek of er correlatie is tussen de drie numerieke kolommen (paarsgewijs). <img src=\"images/stars_1.png\" alt=\"1 star\" style=\"display: inline; margin-top: -5px\" />\n",
    "\n",
    "<span>c.</span> Voor de kolommen die (paarsgewijs) correlatie lijken te vertonen in opgave b, bereken de coëfficiënten van de regressielijn. <img src=\"images/stars_1.png\" alt=\"1 star\" style=\"display: inline; margin-top: -5px\" />\n",
    "\n",
    "<span>d.</span> Teken voor de in opgave c onderzochte kolomparen een scatterplot. Teken in de scatterplot tevens het gevonden regressielijnstuk. <img src=\"images/stars_2.png\" alt=\"2 star\" style=\"display: inline; margin-top: -5px\" />\n",
    "\n",
    "<span>e.</span> De kolom \"geslacht\" is tot dusver buiten beschouwing gebleven. Zou je deze kolom, of een variant erop, kunnen gebruiken om correlatie met één van de andere kolommen te bepalen? Beargumenteer waarom je denkt dat dat het geval is. Als je \"ja\" hebt beargumenteerd, probeer dan of je correlatie kunt onderzoeken en enkelvoudige, lineaire regressie toe kunt passen op de variabele \"geslacht\" en een andere variabele.<img src=\"images/stars_3.png\" alt=\"3 star\" style=\"display: inline; margin-top: -5px\" />"
   ]
  },
  {
   "cell_type": "markdown",
   "metadata": {},
   "source": [
    "### Opgave 2\n",
    "\n",
    "<span>a.</span> Download de Iris dataset van Fisher (github) en construeer een pandas.DataFrame op basis van het Excel-bestand. <img src=\"images/stars_1.png\" alt=\"1 star\" style=\"display: inline; margin-top: -5px\" />\n",
    "\n",
    "<span>b.</span> Onderzoek correlatie tussen alle mogelijke (numerieke) variabelen in de Iris data. (zie ook c.)<img src=\"images/stars_2.png\" alt=\"2 star\" style=\"display: inline; margin-top: -5px\" />\n",
    "\n",
    "<span>c.</span> Kun je het onderzoeken van alle mogelijke combinaties van opgegeven variabelen (kolomnamen) ook automatiseren in Python?<img src=\"images/stars_2.png\" alt=\"2 star\" style=\"display: inline; margin-top: -5px\" />\n",
    "\n",
    "<span>d.</span> Stel vergelijkingen van regressielijnen op voor alle kolomparen waarvan je, op basis van opgave b, vermoedt dat ze correlatie vertonen. Teken ook steeds de regressielijnen in een scatterplot van de gebruikte variabelen. <img src=\"images/stars_2.png\" alt=\"2 star\" style=\"display: inline; margin-top: -5px\" />"
   ]
  },
  {
   "cell_type": "code",
   "execution_count": null,
   "metadata": {
    "collapsed": true
   },
   "outputs": [],
   "source": []
  }
 ],
 "metadata": {
  "kernelspec": {
   "display_name": "Python 3",
   "language": "python",
   "name": "python3"
  },
  "language_info": {
   "codemirror_mode": {
    "name": "ipython",
    "version": 3
   },
   "file_extension": ".py",
   "mimetype": "text/x-python",
   "name": "python",
   "nbconvert_exporter": "python",
   "pygments_lexer": "ipython3",
   "version": "3.5.1"
  }
 },
 "nbformat": 4,
 "nbformat_minor": 0
}
