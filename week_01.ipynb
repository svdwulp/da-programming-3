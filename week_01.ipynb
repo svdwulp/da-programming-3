{
 "cells": [
  {
   "cell_type": "markdown",
   "metadata": {
    "slideshow": {
     "slide_type": "slide"
    }
   },
   "source": [
    "# Data Analysis - Programming - 3\n",
    "## Week 1"
   ]
  },
  {
   "cell_type": "markdown",
   "metadata": {
    "slideshow": {
     "slide_type": "fragment"
    }
   },
   "source": [
    "## Onderwerpen week 1\n",
    "\n",
    "- opgaven toets week 10\n",
    "- Pandas - Series  \n",
    "  Leerdoelen:\n",
    "  - Series maken op verschillende wijzen  \n",
    "    (random variates, Python list, kolom(men) in csv-bestand)\n",
    "  - data in Series selecteren  \n",
    "    (indexing & slicing op basis van indices en labels, boolean indexing)\n",
    "  - kengetallen en samenvatting produceren voor Series\n",
    "  - gebruikelijke statistische functies (numpy/scipy.stats) toepassen op Series"
   ]
  },
  {
   "cell_type": "markdown",
   "metadata": {
    "slideshow": {
     "slide_type": "slide"
    }
   },
   "source": [
    "## Opgaven toets week 10\n",
    "\n",
    "### Opgave 2\n",
    "\n",
    "De dienst IT Services van ASML houdt een logboek bij van alle verleende diensten. In de bijlage `incidents.csv` vind je het logboek met alle vermeldingen van de jaren 2014 en 2015. De kolomkoppen in het bestand worden beschreven in de bijlage `incidents_description.txt`.\n",
    "Tot slot heb je ook het bestand `Toets week 10 - DA - Opgave 2.ipynb` gekregen. Schrijf hierin jouw uitwerking van de onderstaande opgaven en e-mail (alleen) dit bestand naar de docent en de surveillant."
   ]
  },
  {
   "cell_type": "markdown",
   "metadata": {
    "collapsed": true,
    "slideshow": {
     "slide_type": "subslide"
    }
   },
   "source": [
    "## Opgaven toets week 10\n",
    "\n",
    "### Opgave 2a\n",
    "Schrijf een Python functie genaamd `calculate_avg_duration` waarin de gemiddelde 'duration' wordt bepaald per categorie.\n",
    "\n",
    "De functie heeft één argument genaamd `filename` dat bepaalt uit welk bestand de data zal worden gelezen.\n",
    "\n",
    "De functie dient een dictionary terug te geven waarin de 'ticket category' de `key` is en de gemiddelde tijd voor afhandeling van dit vraagtype de `value`.\n",
    "\n",
    "Een voorbeeld van het verwachte resultaat van de functie-aanroep zie je hieronder:\n",
    "\n",
    "```python\n",
    "duration_avgs = calculate_avg_duration(\"incidents.csv\")\n",
    "print(duration_avgs)\n",
    "```\n",
    "Output:\n",
    "```\n",
    "{'Fault': 68.290072475981802, 'Service Request': 68.217522658610278, 'Modification': 68.480795610425247, 'Assistance': 66.194503171247362, 'Incident': 69.994845360824741}\n",
    "```"
   ]
  },
  {
   "cell_type": "code",
   "execution_count": 3,
   "metadata": {
    "collapsed": false,
    "slideshow": {
     "slide_type": "skip"
    }
   },
   "outputs": [
    {
     "name": "stdout",
     "output_type": "stream",
     "text": [
      "Using matplotlib backend: Qt4Agg\n",
      "Populating the interactive namespace from numpy and matplotlib\n"
     ]
    }
   ],
   "source": [
    "%pylab\n",
    "%matplotlib inline\n",
    "import scipy.stats as st"
   ]
  },
  {
   "cell_type": "code",
   "execution_count": 4,
   "metadata": {
    "collapsed": true,
    "slideshow": {
     "slide_type": "subslide"
    }
   },
   "outputs": [],
   "source": [
    "def calculate_avg_duration(filename):\n",
    "    # VUL HIER ZELF DE GEVRAAGDE FUNCTIE IN\n",
    "    # en verwijder de onderstaande regel 'pass'\n",
    "    pass\n",
    "\n",
    "\n",
    "## gebruik desgewenst de onderstaande code om je functie te controleren\n",
    "# duration_avgs = calculate_avg_duration(\"incidents.csv\")\n",
    "# print(\"{:18}{}\".format(\"Category\", \"Avg. duration (minutes)\"))\n",
    "# for category, avg_duration in duration_avgs.items():\n",
    "#     print(\"{:18}{:.1f}\".format(category, avg_duration))"
   ]
  },
  {
   "cell_type": "code",
   "execution_count": 6,
   "metadata": {
    "collapsed": false,
    "slideshow": {
     "slide_type": "subslide"
    }
   },
   "outputs": [
    {
     "name": "stdout",
     "output_type": "stream",
     "text": [
      "Category          Avg. duration (minutes)\n",
      "Incident          70.0\n",
      "Assistance        66.2\n",
      "Fault             68.3\n",
      "Modification      68.5\n",
      "Service Request   68.2\n"
     ]
    }
   ],
   "source": [
    "def calculate_avg_duration(filename):\n",
    "    durations = {}\n",
    "    with open(filename, \"r\") as f:\n",
    "        f.readline()\n",
    "        for line in f:\n",
    "            fields = line.split(\",\")\n",
    "            category = fields[1]\n",
    "            duration = int(fields[10])\n",
    "            if category in durations:\n",
    "                durations[category].append(duration)\n",
    "            else:\n",
    "                durations[category] = [duration]\n",
    "    avg_durations = {}\n",
    "    for category, values in durations.items():\n",
    "        avg_durations[category] = np.mean(values)\n",
    "    \n",
    "    return avg_durations\n",
    "\n",
    "\n",
    "duration_avgs = calculate_avg_duration(\"incidents.csv\")\n",
    "print(\"{:18}{}\".format(\"Category\", \"Avg. duration (minutes)\"))\n",
    "for category, avg_duration in duration_avgs.items():\n",
    "    print(\"{:18}{:.1f}\".format(category, avg_duration))"
   ]
  },
  {
   "cell_type": "markdown",
   "metadata": {
    "slideshow": {
     "slide_type": "subslide"
    }
   },
   "source": [
    "### Opgave 2b\n",
    "\n",
    "Schrijf een Python programma waarmee je op __twee__ manieren onderzoekt of 'resolution time' normaal verdeeld is.\n",
    "\n",
    "Het inlezen van de data in een NumPy-array, genaamd `durations`, is al voor je gedaan."
   ]
  },
  {
   "cell_type": "code",
   "execution_count": 7,
   "metadata": {
    "collapsed": false,
    "slideshow": {
     "slide_type": "subslide"
    }
   },
   "outputs": [],
   "source": [
    "durations = np.loadtxt(\n",
    "    \"incidents.csv\", delimiter=\",\", skiprows=1, usecols=[10,]\n",
    ")"
   ]
  },
  {
   "cell_type": "code",
   "execution_count": 8,
   "metadata": {
    "collapsed": false,
    "slideshow": {
     "slide_type": "subslide"
    }
   },
   "outputs": [
    {
     "data": {
      "image/png": "[encoded data removed]",
      "text/plain": [
       "<matplotlib.figure.Figure at 0x1f30856e358>"
      ]
     },
     "metadata": {},
     "output_type": "display_data"
    }
   ],
   "source": [
    "# methode 1: histogram en normale verdeling visueel vergelijken\n",
    "mu = durations.mean()\n",
    "sigma = durations.std()\n",
    "rij = arange(mu - 4 * sigma, mu + 4 * sigma, 0.01)\n",
    "X = st.norm(mu, sigma)\n",
    "kansdichtheid = X.pdf(rij)\n",
    "plt.hist(durations, normed=1, align='mid', bins=20)\n",
    "plt.plot(rij, kansdichtheid, color='red', linewidth=5)\n",
    "plt.title('histogram of durations (20 bins)')\n",
    "plt.show()"
   ]
  },
  {
   "cell_type": "code",
   "execution_count": 9,
   "metadata": {
    "collapsed": false,
    "slideshow": {
     "slide_type": "subslide"
    }
   },
   "outputs": [
    {
     "data": {
      "image/png": "[encoded data removed]",
      "text/plain": [
       "<matplotlib.figure.Figure at 0x1f3086b9048>"
      ]
     },
     "metadata": {},
     "output_type": "display_data"
    }
   ],
   "source": [
    "# methode 2: percentielen data vergelijken met kansverdeling mbv qq-plot\n",
    "n = len(durations)\n",
    "mu = durations.mean()\n",
    "sigma = durations.std(ddof=0)\n",
    "X = st.norm(mu, sigma)\n",
    "\n",
    "verwachte_waarnemingen = []\n",
    "durations.sort()\n",
    "\n",
    "for i in range(n):\n",
    "    verwachte_waarnemingen += [X.ppf(i/n)]\n",
    "\n",
    "plt.plot(durations, verwachte_waarnemingen, 'ro')\n",
    "plt.plot(verwachte_waarnemingen, verwachte_waarnemingen, color='grey')\n",
    "plt.xlabel('steekproef')\n",
    "plt.ylabel('verwachte waarnemingen')\n",
    "plt.axis('equal')\n",
    "plt.show()"
   ]
  },
  {
   "cell_type": "code",
   "execution_count": 10,
   "metadata": {
    "collapsed": false,
    "slideshow": {
     "slide_type": "subslide"
    }
   },
   "outputs": [
    {
     "name": "stdout",
     "output_type": "stream",
     "text": [
      "For a normally distributed variable, expect percentages along the lines of 68%, 95% and 99.7% within 1, 2 and 3 standard deviations from the mean.\n",
      "Percentage of data within 1 std: 67.33%\n",
      "Percentage of data within 2 std: 97.47%\n",
      "Percentage of data within 3 std: 99.83%\n"
     ]
    }
   ],
   "source": [
    "# methode 3: verdeling data vergelijken met normale verdeling\n",
    "# op basis van std deviatie\n",
    "mu, stddev = durations.mean(), durations.std(ddof=0)\n",
    "print(\"For a normally distributed variable, expect percentages \"\n",
    "      \"along the lines of 68%, 95% and 99.7% within 1, 2 \"\n",
    "      \"and 3 standard deviations from the mean.\")\n",
    "for i in range(1, 4):\n",
    "    within_std = sum(np.abs(durations - mu) < i * stddev)\n",
    "    print(\n",
    "        \"Percentage of data within {} std: {:.2f}%\".format(\n",
    "            i, 100 * (within_std / durations.size)\n",
    "        )\n",
    "    )"
   ]
  },
  {
   "cell_type": "markdown",
   "metadata": {
    "slideshow": {
     "slide_type": "slide"
    }
   },
   "source": [
    "## Pandas - Series (1)\n",
    "\n",
    "NumPy is *de* Python library voor numerieke berekeningen in Python.  \n",
    "Het belangrijkste datatype in NumPy is de array (ndarray).\n",
    "\n",
    "SciPy is een verzameling Python libraries die een toolset vormt die gebruikt kan worden voor zeer diverse wetenschappelijke berekeningen en programma's.\n",
    "SciPy gebruikt NumPy als numerieke basis, dus veel functies zijn automatisch geschikt om op vectoren/matrices te worden uitgevoerd.\n",
    "\n",
    "Pandas is een Python library voor data analysis, gebouwd op NumPy en dus ook te gebruiken met SciPy. Pandas biedt enkele datatypen (Series, DataFrames en Panels) die het makkelijker maken om met data te werken in Python.\n",
    "\n",
    "```python\n",
    "import pandas as pd\n",
    "```"
   ]
  },
  {
   "cell_type": "code",
   "execution_count": 11,
   "metadata": {
    "collapsed": true,
    "slideshow": {
     "slide_type": "skip"
    }
   },
   "outputs": [],
   "source": [
    "import pandas as pd"
   ]
  },
  {
   "cell_type": "markdown",
   "metadata": {
    "slideshow": {
     "slide_type": "subslide"
    }
   },
   "source": [
    "## Pandas - Series (2)\n",
    "\n",
    "Een Pandas Series is een gelabelde één-dimensionale array. De labels worden ook wel de *index* genoemd.\n",
    "\n",
    "Je maakt een Series bijvoorbeeld als volgt:\n",
    "\n",
    "```python\n",
    "s = pd.Series([12.3, 8, True, \"Data Analysis\", 3.14])\n",
    "s = pd.Series(st.norm.rvs(0, 1, 10))\n",
    "```\n",
    "\n",
    "Of, als je de labels zelf wilt bepalen:\n",
    "\n",
    "```python\n",
    "s = pd.Series(st.norm.rvs(0, 1, 5), index=[\"a\", \"b\", \"c\", \"d\", \"e\"])\n",
    "```\n",
    "\n",
    "Of op basis van andere Python datatypen:\n",
    "\n",
    "```python\n",
    "s = pd.Series([8, 9, 9, 12, 11, 8])\n",
    "s = pd.Series({\"a\": 4, \"b\": 6, \"c\": 22})\n",
    "```"
   ]
  },
  {
   "cell_type": "markdown",
   "metadata": {
    "slideshow": {
     "slide_type": "subslide"
    }
   },
   "source": [
    "## Pandas - Series (3)\n",
    "\n",
    "Maak een Series, met default labels, met:\n",
    "- de getallen 1 t/m 10 op volgorde\n",
    "- 10 random coin flips (kop: 0, munt: 1)\n",
    "- 10 random coin flips (kop: \"H\", munt: \"T\")\n",
    "\n",
    "Maak een gelabelde Series met:\n",
    "- de lichaamslengte van de drie dichtstbijzijnde studenten,  \n",
    "met hun naam als label"
   ]
  },
  {
   "cell_type": "markdown",
   "metadata": {
    "slideshow": {
     "slide_type": "subslide"
    }
   },
   "source": [
    "## Pandas - Series (4)\n",
    "\n",
    "Een snelle samenvatting van de data in een Series kun je verkrijgen met:\n",
    "- Series.head() & Series.tail()\n",
    "- Series.describe()\n",
    "\n",
    "Alle gebruikelijke NumPy functies werken ook op Series (mits de data numeriek is):\n",
    "- Series.mean(), Series.std(ddof=1)\n",
    "\n",
    "Elementen van een Series kun je selecteren door middel van:\n",
    "- indexing (op locatie en op label)\n",
    "- slicing (op locatie en op label)\n",
    "- boolean indexing\n",
    "\n",
    "Pandas voorziet in een enorme hoeveelheid functionaliteit, veelal direct afkomstig van NumPy. Scroll maar eens door de [documentatie van Series](http://pandas.pydata.org/pandas-docs/stable/api.html#series) heen om een indruk te krijgen."
   ]
  },
  {
   "cell_type": "markdown",
   "metadata": {
    "slideshow": {
     "slide_type": "subslide"
    }
   },
   "source": [
    "## Pandas - Series (5)\n",
    "\n",
    "Gegeven\n",
    "```python\n",
    "s = pd.Series(st.norm.rvs(0, 1, 10), index=list(\"abcdefghij\"))\n",
    "```\n",
    "\n",
    "Toon:\n",
    "- het gemiddelde van de eerste 5 waarden\n",
    "- de steekproefstandaardafwijking van de labels \"f\" t/m \"j\"\n",
    "- het aantal steekproefwaarden groter dan 1.0\n",
    "\n",
    "Gegeven\n",
    "```python\n",
    "s = pd.Series(st.norm.rvs(0, 1, 1000))\n",
    "```\n",
    "\n",
    "Toon:\n",
    "- het percentage steekproefwaarden dat binnen 1, 2 en 3 standaardafwijkingen van het gemiddelde valt"
   ]
  },
  {
   "cell_type": "code",
   "execution_count": null,
   "metadata": {
    "collapsed": true
   },
   "outputs": [],
   "source": []
  }
 ],
 "metadata": {
  "celltoolbar": "Slideshow",
  "kernelspec": {
   "display_name": "Python 3",
   "language": "python",
   "name": "python3"
  },
  "language_info": {
   "codemirror_mode": {
    "name": "ipython",
    "version": 3
   },
   "file_extension": ".py",
   "mimetype": "text/x-python",
   "name": "python",
   "nbconvert_exporter": "python",
   "pygments_lexer": "ipython3",
   "version": "3.5.1"
  }
 },
 "nbformat": 4,
 "nbformat_minor": 0
}
