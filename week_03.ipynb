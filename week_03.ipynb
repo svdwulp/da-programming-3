{
 "cells": [
  {
   "cell_type": "markdown",
   "metadata": {
    "slideshow": {
     "slide_type": "slide"
    }
   },
   "source": [
    "### Data Analysis - Programming - 3\n",
    "## Week 2"
   ]
  },
  {
   "cell_type": "markdown",
   "metadata": {
    "slideshow": {
     "slide_type": "fragment"
    }
   },
   "source": [
    "## Onderwerpen week 2\n",
    "\n",
    "- samenvatting statistische functies in Python voor toetsweek\n",
    "- voorspelling salaris major league baseball"
   ]
  },
  {
   "cell_type": "code",
   "execution_count": 1,
   "metadata": {
    "collapsed": false,
    "slideshow": {
     "slide_type": "skip"
    }
   },
   "outputs": [
    {
     "name": "stdout",
     "output_type": "stream",
     "text": [
      "Using matplotlib backend: Qt4Agg\n",
      "Populating the interactive namespace from numpy and matplotlib\n"
     ]
    }
   ],
   "source": [
    "%pylab\n",
    "%matplotlib inline\n",
    "import scipy.stats as st\n",
    "import pandas as pd"
   ]
  },
  {
   "cell_type": "markdown",
   "metadata": {
    "slideshow": {
     "slide_type": "slide"
    }
   },
   "source": [
    "## Samenvatting statistische functies in Python voor toetsweek\n",
    "\n",
    "- bij de laatste toets van Wiskunde 2 van de specialisatie Data Analysis heb je een Python-bestand met een samenvatting gekregen\n",
    "- voor de komende toetsen willen de docenten *geen* Python-bestand aanleveren,  \n",
    "maar zouden we jullie willen uitnodigen om samen een samenvatting van de benodigde Python te schrijven\n",
    "- het resultaat van deze samenwerking wordt, na een inspectie door de docenten,  \n",
    "meegeleverd als digitale bijlage (.ipynb) bij de toets in de toetsweek"
   ]
  },
  {
   "cell_type": "markdown",
   "metadata": {
    "slideshow": {
     "slide_type": "fragment"
    }
   },
   "source": [
    "- [Samenvatting statistische functie in Python voor toetsweek](https://docs.google.com/document/d/1H5ISfswELR_9mJPNwR1Hm_l2Rc0kDy2gmuVmgns0P08/edit?usp=sharing)"
   ]
  },
  {
   "cell_type": "markdown",
   "metadata": {
    "slideshow": {
     "slide_type": "slide"
    }
   },
   "source": [
    "## Voorspelling salaris major league baseball\n",
    "\n",
    "- Journalist en baseball aficionado Sean Lahman heeft vanaf 1994 een database aangelegd en onderhouden met statistieken over baseball players: [Lahman’s Baseball Database](http://www.seanlahman.com/baseball-archive/statistics/)\n",
    "- [download](http://seanlahman.com/files/database/baseballdatabank-master_2016-03-02.zip) de zipfile met daarin de (csv-versie van de) database"
   ]
  },
  {
   "cell_type": "markdown",
   "metadata": {
    "slideshow": {
     "slide_type": "fragment"
    }
   },
   "source": [
    "- Probeer in de komende twee weken te komen tot een model voor \n",
    "een voorspelling van het salaris van een baseball player\n",
    "- Gebruik daarbij Python met pandas\n",
    "\n",
    "- Verwachte oplevering is een Jupyter Notebook met daarin:\n",
    "  - een beschrijving van hoe je tot het model gekomen bent,  \n",
    "    bijvoorbeeld welke kolommen je hebt onderzocht\n",
    "  - een beschrijving van hoe de gebruiker jouw Notebook kan gebruiken om een\n",
    "  voorspelling te doen met behulp van het model"
   ]
  },
  {
   "cell_type": "code",
   "execution_count": null,
   "metadata": {
    "collapsed": true
   },
   "outputs": [],
   "source": []
  }
 ],
 "metadata": {
  "celltoolbar": "Slideshow",
  "kernelspec": {
   "display_name": "Python 3",
   "language": "python",
   "name": "python3"
  },
  "language_info": {
   "codemirror_mode": {
    "name": "ipython",
    "version": 3
   },
   "file_extension": ".py",
   "mimetype": "text/x-python",
   "name": "python",
   "nbconvert_exporter": "python",
   "pygments_lexer": "ipython3",
   "version": "3.5.1"
  }
 },
 "nbformat": 4,
 "nbformat_minor": 0
}
