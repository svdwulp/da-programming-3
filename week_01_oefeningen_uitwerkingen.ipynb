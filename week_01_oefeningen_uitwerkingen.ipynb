{
 "cells": [
  {
   "cell_type": "markdown",
   "metadata": {},
   "source": [
    "# Data Analysis - Programming\n",
    "## Week 1\n",
    "## Oefeningen\n",
    "\n",
    "### Moeilijkheidsgraad\n",
    "\n",
    "Omdat sommige van de onderstaande oefeningen wat lastiger zijn dan andere, is een indicatie van de moeilijkheidsgraad toegevoegd.\n",
    "\n",
    "De volgende niveau's worden daarbij onderscheiden:\n",
    "- <img src=\"images/stars_1.png\" alt=\"1 star\" style=\"display: inline\" /> oefening van behandelde onderwerpen\n",
    "- <img src=\"images/stars_2.png\" alt=\"2 stars\" style=\"display: inline\" /> verdieping van behandelde onderwerpen\n",
    "- <img src=\"images/stars_3.png\" alt=\"3 stars\" style=\"display: inline\" /> uitdaging, stof tot nadenken"
   ]
  },
  {
   "cell_type": "code",
   "execution_count": 2,
   "metadata": {
    "collapsed": false
   },
   "outputs": [
    {
     "name": "stdout",
     "output_type": "stream",
     "text": [
      "Using matplotlib backend: Qt4Agg\n",
      "Populating the interactive namespace from numpy and matplotlib\n"
     ]
    }
   ],
   "source": [
    "%pylab\n",
    "%matplotlib inline\n",
    "import scipy.stats as st\n",
    "import pandas as pd"
   ]
  },
  {
   "cell_type": "markdown",
   "metadata": {},
   "source": [
    "<img src=\"images/Jack_Sparrow.jpg\" alt=\"Captain Jack Sparrow\" style=\"float: right; margin-left: 20px\" />\n",
    "### Opgave 1\n",
    "\n",
    "<span>a.</span> Bekijk het bestand data_01.csv en beschrijf de inhoud van de kolommen. <img src=\"images/stars_1.png\" alt=\"1 star\" style=\"display: inline; margin-top: -5px\" />\n",
    "\n",
    "<span>b.</span> Laadt de data in de kolom 'Global Average Temperature' in Python in en maak er een pandas.Series van. <img src=\"images/stars_1.png\" alt=\"1 star\" style=\"display: inline; margin-top: -5px\" />\n",
    "\n",
    "<span>c.</span> Schrijf een Python functie met twee argumenten genaamd `filename` en `column`. De functie dient de opgegeven kolom (0-based index) uit het opgegeven bestand te lezen en de inhoud terug te geven als een pandas.Series. Je mag er vanuit gaan dat de kolom numerieke data bevat. Test je functie door de kolommen in `data_01.csv` in te lezen met behulp van de functie. <img src=\"images/stars_2.png\" alt=\"2 star\" style=\"display: inline; margin-top: -5px\" />  \n",
    "*Opmerking:* je kunt de functie naar wens natuurlijk uitbreiden met bijvoorbeeld: een boolean argument dat aangeeft of het bestand een header bevat, een argument dat aangeeft welk datatype de opgegeven kolom bevat of logica die zelf het meest geschikte datatype voor de kolom bepaalt.\n",
    "\n",
    "<span>d.</span> Onderzoek of de variabelen 'Global Average Temperature' en 'Number of Pirates' lineaire correlatie vertonen. <img src=\"images/stars_1.png\" alt=\"1 star\" style=\"display: inline; margin-top: -5px\" />  \n",
    "  \n",
    "De 'Church of the Flying Spaghetti Monster' stelt dat het fenomeen 'global warming' wordt veroorzaakt door het afnemend aantal piraten. [Deze open brief](http://www.venganza.org/about/open-letter/) aan het 'Kansas School Board' beschrijft dit inzicht. Lees voor informatie over het verschil tussen correlatie en oorzakelijk verband (causatie) bijvoorbeeld [deze blog](http://www.scilogs.com/in_scientio_veritas/correlation-causation-part-un/). <img src=\"images/stars_2.png\" alt=\"2 star\" style=\"display: inline; margin-top: -5px\" />  \n",
    "\n",
    "<span>e.</span> Schrijf een Python-functie die, gegeven twee pandas.Series, de correlatie coëfficiënt `r` en de P-value berekent en teruggeeft als resultaat van de functie. <img src=\"images/stars_2.png\" alt=\"2 star\" style=\"display: inline; margin-top: -5px\" />  \n",
    "\n",
    "<span>f.</span> Lees de documentatie van de `scipy.stats`-functie [`pearsonr`](https://docs.scipy.org/doc/scipy/reference/generated/scipy.stats.pearsonr.html#scipy.stats.pearsonr). Controleer of de door jou in opgave 1d gevonden correlatie coëfficiënt en P-value overeenkomen met de output van `pearsonr`. <img src=\"images/stars_2.png\" alt=\"2 star\" style=\"display: inline; margin-top: -5px\" />  "
   ]
  },
  {
   "cell_type": "markdown",
   "metadata": {},
   "source": [
    "**Opgave 1a**\n",
    "\n",
    "Kolommen:\n",
    "Year - jaar, geheel getal, discreet, interval meetniveau\n",
    "Global Average Temperature - gemiddelde temperatuur van een jaar over de aarde, float, continu, interval meetniveau\n",
    "Number of Pirates - aantal piraten op aarde, geheel getal, discreet, continu meetniveau"
   ]
  },
  {
   "cell_type": "code",
   "execution_count": 5,
   "metadata": {
    "collapsed": false
   },
   "outputs": [
    {
     "name": "stdout",
     "output_type": "stream",
     "text": [
      "Global Average Temperature, numerical summary:\n",
      "count     7.000000\n",
      "mean     14.914286\n",
      "std       0.601189\n",
      "min      14.200000\n",
      "25%      14.450000\n",
      "50%      14.800000\n",
      "75%      15.350000\n",
      "max      15.800000\n",
      "dtype: float64\n"
     ]
    }
   ],
   "source": [
    "# Opgave 1b\n",
    "with open(\"data/data_01.csv\", \"r\") as f:\n",
    "    f.readline()  # skip header\n",
    "    index = []  # using indices is optional\n",
    "    values = []\n",
    "    for line in f:\n",
    "        fields = line.rstrip().split(\",\")\n",
    "        index.append(int(fields[0]))\n",
    "        values.append(float(fields[1]))\n",
    "avg_temp = pd.Series(values, index=index)\n",
    "print(\n",
    "    \"Global Average Temperature, numerical summary:\",\n",
    "    avg_temp.describe(), \n",
    "    sep=\"\\n\"\n",
    ")"
   ]
  },
  {
   "cell_type": "code",
   "execution_count": 6,
   "metadata": {
    "collapsed": false
   },
   "outputs": [
    {
     "name": "stdout",
     "output_type": "stream",
     "text": [
      "Number of pirates:\n",
      "1820    35000.0\n",
      "1860    30000.0\n",
      "1880    20000.0\n",
      "1920    15000.0\n",
      "1940     5000.0\n",
      "1960      400.0\n",
      "2000       17.0\n",
      "dtype: float64\n",
      "Number of pirates, numerical summary:\n",
      "count        7.000000\n",
      "mean     15059.571429\n",
      "std      14069.028915\n",
      "min         17.000000\n",
      "25%       2700.000000\n",
      "50%      15000.000000\n",
      "75%      25000.000000\n",
      "max      35000.000000\n",
      "dtype: float64\n"
     ]
    }
   ],
   "source": [
    "# Opgave 1c\n",
    "def read_column(filename, column, index_column=None):\n",
    "    with open(filename, \"r\") as f:\n",
    "        f.readline()  # skip header\n",
    "        index = []\n",
    "        values = []\n",
    "        for line in f:\n",
    "            fields = line.rstrip().split(\",\")\n",
    "            if index_column is not None:\n",
    "                # assume index to be int\n",
    "                index.append(int(fields[index_column]))\n",
    "            values.append(float(fields[column]))\n",
    "    if index is not None:\n",
    "        return pd.Series(values, index=index)\n",
    "    return pd.Series(values)\n",
    "\n",
    "num_pirates = read_column(\"data/data_01.csv\", 2, 0)\n",
    "print(\n",
    "    \"Number of pirates:\",\n",
    "    num_pirates, \n",
    "    sep=\"\\n\"\n",
    ")\n",
    "print(\n",
    "    \"Number of pirates, numerical summary:\",\n",
    "    num_pirates.describe(), \n",
    "    sep=\"\\n\"\n",
    ")"
   ]
  },
  {
   "cell_type": "code",
   "execution_count": 13,
   "metadata": {
    "collapsed": false
   },
   "outputs": [
    {
     "data": {
      "image/png": "[encoded data removed]",
      "text/plain": [
       "<matplotlib.figure.Figure at 0x247418f2048>"
      ]
     },
     "metadata": {},
     "output_type": "display_data"
    },
    {
     "name": "stdout",
     "output_type": "stream",
     "text": [
      "Correlatie coëfficiënt r = -0.9606\n",
      "P-value = 0.0006\n"
     ]
    }
   ],
   "source": [
    "# Opgave 1d\n",
    "# it is customary to display the explanatory variable on x-axis\n",
    "# and response variable on y-axis\n",
    "x = num_pirates\n",
    "y = avg_temp\n",
    "n = num_pirates.count()\n",
    "\n",
    "xbar, sx = x.mean(), x.std(ddof=1)\n",
    "ybar, sy = y.mean(), y.std(ddof=1)\n",
    "zx = (x - xbar) / sx\n",
    "zy = (y - ybar) / sy\n",
    "plt.plot(zx, zy, 'ro')\n",
    "plt.xlabel(\"Number of pirates (norm)\")\n",
    "plt.ylabel(\"Global average temperature (norm)\")\n",
    "plt.show()\n",
    "\n",
    "r = np.dot(zx, zy) / (n - 1)\n",
    "Pvalue = 2 * (1 - st.rdist.cdf(abs(r), n - 2))\n",
    "print(\"Correlatie coëfficiënt r = {:.4f}\".format(r))\n",
    "print(\"P-value = {:.4f}\".format(Pvalue))"
   ]
  },
  {
   "cell_type": "code",
   "execution_count": 16,
   "metadata": {
    "collapsed": false
   },
   "outputs": [
    {
     "name": "stdout",
     "output_type": "stream",
     "text": [
      "Correlatie coëfficiënt r = -0.9606, P-value = 0.0006\n"
     ]
    }
   ],
   "source": [
    "# Opgave 1e\n",
    "def calc_correlation_coeff(x, y):\n",
    "    if len(x) != len(y):\n",
    "        raise Exception(\"Series x and y should be same length!\")\n",
    "    n = len(x)\n",
    "\n",
    "    xbar, sx = x.mean(), x.std(ddof=1)\n",
    "    ybar, sy = y.mean(), y.std(ddof=1)\n",
    "    zx = (x - xbar) / sx\n",
    "    zy = (y - ybar) / sy\n",
    "    \n",
    "    r = np.dot(zx, zy) / (n - 1)\n",
    "    Pvalue = 2 * (1 - st.rdist.cdf(abs(r), n - 2))\n",
    "\n",
    "    return r, Pvalue\n",
    "\n",
    "r, Pvalue = calc_correlation_coeff(x, y)\n",
    "print(\"Correlatie coëfficiënt r = {:.4f}, P-value = {:.4f}\".format(r, Pvalue))"
   ]
  },
  {
   "cell_type": "code",
   "execution_count": 22,
   "metadata": {
    "collapsed": false
   },
   "outputs": [
    {
     "name": "stdout",
     "output_type": "stream",
     "text": [
      "Correlatie coëfficiënt r = -0.9606, P-value = 0.0006\n"
     ]
    }
   ],
   "source": [
    "r, Pvalue = st.pearsonr(x, y)\n",
    "print(\"Correlatie coëfficiënt r = {:.4f}, P-value = {:.4f}\".format(r, Pvalue))"
   ]
  },
  {
   "cell_type": "markdown",
   "metadata": {},
   "source": [
    "### Opgave 2\n",
    "\n",
    "De onderstaande cell bevat een Python functie die weerdata leest van de website van het KNMI. Output van de functie zijn de kolommen FG en TG in pandas.Series: windsnelheid in m/s en temperatuur in graden Celcius, beide daggemiddelden.  \n",
    "Kijk of je het programma kunt lezen. Onderzoek vervolgens of de windsnelheid en de temperatuur lineaire samenhang vertonen. <img src=\"images/stars_2.png\" alt=\"2 star\" style=\"display: inline; margin-top: -5px\" />  "
   ]
  },
  {
   "cell_type": "code",
   "execution_count": 24,
   "metadata": {
    "collapsed": false
   },
   "outputs": [],
   "source": [
    "from datetime import date\n",
    "import requests\n",
    "from io import StringIO\n",
    "\n",
    "\n",
    "def load_knmi_data(start=date(2015, 1, 1), end=date(2015, 12, 31), station=350):\n",
    "    url = \"http://projects.knmi.nl/klimatologie/daggegevens/getdata_dag.cgi\"\n",
    "    data = {\n",
    "        \"byear\": start.year,\n",
    "        \"bmonth\": start.month,\n",
    "        \"bday\": start.day,\n",
    "        \"eyear\": end.year,\n",
    "        \"emonth\": end.month,\n",
    "        \"eday\": end.day,\n",
    "        \"stations\": station,\n",
    "        \"variable\": \"FG\",\n",
    "    }\n",
    "    r = requests.post(url, data=data)\n",
    "    if r.status_code == requests.codes.ok:\n",
    "        # response op webrequest ontvangen,\n",
    "        #   probeer eventueel r.text (een string) naar een bestand te printen\n",
    "        #   om inzicht te krijgen in de data\n",
    "        f = StringIO(r.text)  # use string as file\n",
    "        # return columns 4 (FG, mean wind speed in m/s) and 11 (avg temperature in C)\n",
    "        data = loadtxt(f, delimiter=\",\", usecols=(4, 11)) / 10\n",
    "        return (\n",
    "            pd.Series(data[:, 0]),\n",
    "            pd.Series(data[:, 1]),\n",
    "        )\n",
    "    raise Exception(\"Error occurred loading data from knmi.nl!\")\n",
    "\n",
    "windspeed, temperature = load_knmi_data()"
   ]
  },
  {
   "cell_type": "code",
   "execution_count": 28,
   "metadata": {
    "collapsed": false
   },
   "outputs": [
    {
     "name": "stdout",
     "output_type": "stream",
     "text": [
      "Windspeed:\n",
      "count    365.000000\n",
      "mean       3.742192\n",
      "std        1.507518\n",
      "min        1.200000\n",
      "25%        2.700000\n",
      "50%        3.500000\n",
      "75%        4.600000\n",
      "max       11.400000\n",
      "dtype: float64\n",
      "Temperature:\n",
      "count    365.000000\n",
      "mean      11.010959\n",
      "std        5.711843\n",
      "min       -2.800000\n",
      "25%        6.700000\n",
      "50%       11.200000\n",
      "75%       14.400000\n",
      "max       27.100000\n",
      "dtype: float64\n"
     ]
    },
    {
     "data": {
      "image/png": "[encoded data removed]",
      "text/plain": [
       "<matplotlib.figure.Figure at 0x247416e5588>"
      ]
     },
     "metadata": {},
     "output_type": "display_data"
    },
    {
     "name": "stdout",
     "output_type": "stream",
     "text": [
      "Correlatie coëfficiënt r = -0.0598, P-value = 0.2545\n"
     ]
    }
   ],
   "source": [
    "print(\"Windspeed:\\n\" + str(windspeed.describe()))\n",
    "print(\"Temperature:\\n\" + str(temperature.describe()))\n",
    "\n",
    "plt.plot(st.mstats.zscore(windspeed), st.mstats.zscore(temperature), \"ro\")\n",
    "plt.xlabel(\"Windspeed (norm)\")\n",
    "plt.ylabel(\"Temperature (norm)\")\n",
    "plt.show()\n",
    "\n",
    "r, Pvalue = st.pearsonr(windspeed, temperature)\n",
    "print(\"Correlatie coëfficiënt r = {:.4f}, P-value = {:.4f}\".format(r, Pvalue))"
   ]
  },
  {
   "cell_type": "code",
   "execution_count": null,
   "metadata": {
    "collapsed": true
   },
   "outputs": [],
   "source": []
  }
 ],
 "metadata": {
  "kernelspec": {
   "display_name": "Python 3",
   "language": "python",
   "name": "python3"
  },
  "language_info": {
   "codemirror_mode": {
    "name": "ipython",
    "version": 3
   },
   "file_extension": ".py",
   "mimetype": "text/x-python",
   "name": "python",
   "nbconvert_exporter": "python",
   "pygments_lexer": "ipython3",
   "version": "3.5.1"
  }
 },
 "nbformat": 4,
 "nbformat_minor": 0
}
